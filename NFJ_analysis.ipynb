{
 "cells": [
  {
   "cell_type": "markdown",
   "id": "2cd4123e-60f0-4466-905b-88544fa0d113",
   "metadata": {},
   "source": [
    "**Analysis of job offers from the NoFluffJobs wbsite**\n",
    "\n",
    "Job positions included in the analysis: data analyst, data engineer, data scientist.\n",
    "\n",
    "https://nofluffjobs.com/pl"
   ]
  },
  {
   "cell_type": "code",
   "execution_count": 13,
   "id": "eec35ce4-f97c-48e9-94e4-0bf77ca71290",
   "metadata": {},
   "outputs": [],
   "source": [
    "import requests\n",
    "import time\n",
    "from bs4 import BeautifulSoup\n",
    "import glob, os\n",
    "import pandas as pd\n",
    "import datetime\n",
    "import re\n",
    "import matplotlib.pyplot as plt"
   ]
  },
  {
   "cell_type": "markdown",
   "id": "8ae3b0bd-29bc-4865-9e50-7bdf737a6d19",
   "metadata": {},
   "source": [
    "**NFJ downloader**\n",
    "\n",
    "A function that returns the html code of the page"
   ]
  },
  {
   "cell_type": "code",
   "execution_count": 1,
   "id": "0767ece1-1385-4e92-b9ff-cd3fefb80660",
   "metadata": {},
   "outputs": [
    {
     "name": "stdout",
     "output_type": "stream",
     "text": [
      "https://nofluffjobs.com/pl/?criteria=jobPosition%3D%27data%20analyst%27&page=1\n",
      "There are job offers\n",
      "https://nofluffjobs.com/pl/?criteria=jobPosition%3D%27data%20analyst%27&page=2\n",
      "There are job offers\n",
      "https://nofluffjobs.com/pl/?criteria=jobPosition%3D%27data%20analyst%27&page=3\n",
      "No offers\n",
      "https://nofluffjobs.com/pl/?criteria=jobPosition%3D%27data%20engineer%27&page=1\n",
      "There are job offers\n",
      "https://nofluffjobs.com/pl/?criteria=jobPosition%3D%27data%20engineer%27&page=2\n",
      "There are job offers\n",
      "https://nofluffjobs.com/pl/?criteria=jobPosition%3D%27data%20engineer%27&page=3\n",
      "There are job offers\n",
      "https://nofluffjobs.com/pl/?criteria=jobPosition%3D%27data%20engineer%27&page=4\n",
      "There are job offers\n",
      "https://nofluffjobs.com/pl/?criteria=jobPosition%3D%27data%20engineer%27&page=5\n",
      "There are job offers\n",
      "https://nofluffjobs.com/pl/?criteria=jobPosition%3D%27data%20engineer%27&page=6\n",
      "No offers\n",
      "https://nofluffjobs.com/pl/?criteria=jobPosition%3D%27data%20scientist%27&page=1\n",
      "There are job offers\n",
      "https://nofluffjobs.com/pl/?criteria=jobPosition%3D%27data%20scientist%27&page=2\n",
      "No offers\n"
     ]
    }
   ],
   "source": [
    "job_positions = [\"data analyst\", \"data engineer\", \"data scientist\"]\n",
    "\n",
    "for job_position in job_positions:\n",
    "    for i in range(1, 10):\n",
    "        url = f\"https://nofluffjobs.com/pl/?criteria=jobPosition%3D%27{job_position}%27&page={i}\"\n",
    "        page = requests.get(url)\n",
    "        print(page.url)\n",
    "        soup = BeautifulSoup(page.text, 'html.parser')\n",
    "        result = soup.select_one('#undefinedJobs > span')\n",
    "        if result is None:\n",
    "            print('No offers')\n",
    "            break\n",
    "        else:\n",
    "            print('There are job offers')\n",
    "\n",
    "        with open(f'data/raw/{job_position}_{i}.html', mode='w', encoding='utf-8') as file:\n",
    "            file.write(page.text)\n",
    "        time.sleep(2)"
   ]
  },
  {
   "cell_type": "markdown",
   "id": "77fc28b1-7dbf-4221-9f7f-e63a37c71446",
   "metadata": {},
   "source": [
    "A function that retrieves data from a website"
   ]
  },
  {
   "cell_type": "code",
   "execution_count": 8,
   "id": "d11b768e-9ad5-4f51-af0c-369a67328188",
   "metadata": {},
   "outputs": [
    {
     "name": "stdout",
     "output_type": "stream",
     "text": [
      "------------\n"
     ]
    }
   ],
   "source": [
    "def download_job_title(offer):\n",
    "    return offer.select_one('nfj-posting-item-title > div > div > h3').text.strip()\n",
    "\n",
    "def download_employer(offer):\n",
    "    return offer.select_one('nfj-posting-item-title > div > span').text.strip()\n",
    "\n",
    "def download_technology(offer):\n",
    "    technology = offer.select_one('div.posting-info.position-relative.md\\:tw-flex.tw-grow.tw-items-center.ng-star-inserted > nfj-posting-item-tags > common-posting-item-tag > object > a')\n",
    "    if technology:\n",
    "        return technology.text.strip()\n",
    "    else:\n",
    "        return\n",
    "    \n",
    "def download_city(offer):\n",
    "    return offer.select_one('div.posting-info.position-relative.md\\:tw-flex.tw-grow.tw-items-center.ng-star-inserted > div.tw-inline-flex.tw-items-center.tw-text-sm.tw-ml-auto.tw-relative > nfj-posting-item-city > div > span.tw-text-ellipsis.tw-inline-block.tw-overflow-hidden.tw-whitespace-nowrap.lg\\:tw-max-w-\\[100px\\].tw-text-right').text.strip()\n",
    "\n",
    "def dowlnoad_salary(offer):\n",
    "    salary = offer.select_one('div.posting-info.position-relative.md\\:tw-flex.tw-grow.tw-items-center.ng-star-inserted > nfj-posting-item-tags > span').text\n",
    "    salary = salary.replace(\"\\u00a0\", \"\")\n",
    "    salary_split = salary.split(' ')\n",
    "\n",
    "    if len(salary_split) == 4:\n",
    "        answer = {'low': int(salary_split[1]), 'high': int(salary_split[1]), 'currency': salary_split[-1].strip()}\n",
    "    else:\n",
    "        answer = {'low': int(salary_split[1]), 'high': int(salary_split[4]), 'currency': salary_split[-1].strip()}\n",
    "    \n",
    "    return answer\n",
    "    \n",
    "def download_from_file(path1):\n",
    "    name = os.path.basename(path1)\n",
    "    return name.split('_')[0]\n",
    "\n",
    "\n",
    "\n",
    "result = []\n",
    "\n",
    "for file2 in glob.glob(r\"data\\raw\\*.html\"):\n",
    "    with open (file2, encoding = 'utf-8') as file3:\n",
    "        soup = BeautifulSoup(file3,\"html.parser\")\n",
    "        offer_list = soup.select(\".list-container > a\")\n",
    "\n",
    "        for offer in offer_list:\n",
    "            info  = {\n",
    "                'name': download_job_title(offer),\n",
    "                'company': download_employer(offer),\n",
    "                'technology': download_technology(offer),\n",
    "                'job':  download_from_file(file2),\n",
    "                'location': download_city(offer),\n",
    "                'salary': dowlnoad_salary(offer)\n",
    "            }\n",
    "            result.append(info)\n",
    "\n",
    "#print(result)\n",
    "\n",
    "df = pd.json_normalize(result)\n",
    "df.to_csv(fr'data/processed/job_offers_au_{datetime.date.today()}.csv', sep=';', encoding='utf-8', index=False)\n",
    "print('------------')\n"
   ]
  },
  {
   "cell_type": "markdown",
   "id": "88b6683f-a195-4145-9bda-b85ec2d9f1e8",
   "metadata": {},
   "source": [
    "**Data processing**"
   ]
  },
  {
   "cell_type": "code",
   "execution_count": 2,
   "id": "ee322b52-d672-41e3-96ad-0180c1de4e55",
   "metadata": {},
   "outputs": [],
   "source": [
    "import pandas as pd\n",
    "import re"
   ]
  },
  {
   "cell_type": "code",
   "execution_count": 3,
   "id": "8764985b-91b1-478a-ad33-558663b888c3",
   "metadata": {},
   "outputs": [
    {
     "data": {
      "text/html": [
       "<div>\n",
       "<style scoped>\n",
       "    .dataframe tbody tr th:only-of-type {\n",
       "        vertical-align: middle;\n",
       "    }\n",
       "\n",
       "    .dataframe tbody tr th {\n",
       "        vertical-align: top;\n",
       "    }\n",
       "\n",
       "    .dataframe thead th {\n",
       "        text-align: right;\n",
       "    }\n",
       "</style>\n",
       "<table border=\"1\" class=\"dataframe\">\n",
       "  <thead>\n",
       "    <tr style=\"text-align: right;\">\n",
       "      <th></th>\n",
       "      <th>name</th>\n",
       "      <th>company</th>\n",
       "      <th>technology</th>\n",
       "      <th>job</th>\n",
       "      <th>location</th>\n",
       "      <th>salary.low</th>\n",
       "      <th>salary.high</th>\n",
       "      <th>salary.currency</th>\n",
       "    </tr>\n",
       "  </thead>\n",
       "  <tbody>\n",
       "    <tr>\n",
       "      <th>0</th>\n",
       "      <td>Data Analyst</td>\n",
       "      <td>DENTONS BUSINESS SERVICES EMEA</td>\n",
       "      <td>NaN</td>\n",
       "      <td>data analyst</td>\n",
       "      <td>Zdalnie</td>\n",
       "      <td>12300</td>\n",
       "      <td>18400</td>\n",
       "      <td>PLN</td>\n",
       "    </tr>\n",
       "    <tr>\n",
       "      <th>1</th>\n",
       "      <td>Senior Business Analyst / Data Operating Model</td>\n",
       "      <td>Diverse CG</td>\n",
       "      <td>NaN</td>\n",
       "      <td>data analyst</td>\n",
       "      <td>Warszawa</td>\n",
       "      <td>21000</td>\n",
       "      <td>24360</td>\n",
       "      <td>PLN</td>\n",
       "    </tr>\n",
       "    <tr>\n",
       "      <th>2</th>\n",
       "      <td>Marketing Data Senior Analyst/Marketing Automa...</td>\n",
       "      <td>AI REV</td>\n",
       "      <td>NaN</td>\n",
       "      <td>data analyst</td>\n",
       "      <td>Zdalnie</td>\n",
       "      <td>22680</td>\n",
       "      <td>31584</td>\n",
       "      <td>PLN</td>\n",
       "    </tr>\n",
       "    <tr>\n",
       "      <th>3</th>\n",
       "      <td>Remote Data Analyst/Data Engineering Team Lead</td>\n",
       "      <td>DataFeedWatch by Cart</td>\n",
       "      <td>NaN</td>\n",
       "      <td>data analyst</td>\n",
       "      <td>Zdalnie</td>\n",
       "      <td>17000</td>\n",
       "      <td>23000</td>\n",
       "      <td>PLN</td>\n",
       "    </tr>\n",
       "    <tr>\n",
       "      <th>4</th>\n",
       "      <td>Marketing Data Analyst</td>\n",
       "      <td>Murka Games Limited</td>\n",
       "      <td>NaN</td>\n",
       "      <td>data analyst</td>\n",
       "      <td>Zdalnie</td>\n",
       "      <td>10647</td>\n",
       "      <td>14906</td>\n",
       "      <td>PLN</td>\n",
       "    </tr>\n",
       "  </tbody>\n",
       "</table>\n",
       "</div>"
      ],
      "text/plain": [
       "                                                name  \\\n",
       "0                                       Data Analyst   \n",
       "1     Senior Business Analyst / Data Operating Model   \n",
       "2  Marketing Data Senior Analyst/Marketing Automa...   \n",
       "3     Remote Data Analyst/Data Engineering Team Lead   \n",
       "4                             Marketing Data Analyst   \n",
       "\n",
       "                          company  technology           job  location  \\\n",
       "0  DENTONS BUSINESS SERVICES EMEA         NaN  data analyst   Zdalnie   \n",
       "1                      Diverse CG         NaN  data analyst  Warszawa   \n",
       "2                          AI REV         NaN  data analyst   Zdalnie   \n",
       "3           DataFeedWatch by Cart         NaN  data analyst   Zdalnie   \n",
       "4             Murka Games Limited         NaN  data analyst   Zdalnie   \n",
       "\n",
       "   salary.low  salary.high salary.currency  \n",
       "0       12300        18400             PLN  \n",
       "1       21000        24360             PLN  \n",
       "2       22680        31584             PLN  \n",
       "3       17000        23000             PLN  \n",
       "4       10647        14906             PLN  "
      ]
     },
     "execution_count": 3,
     "metadata": {},
     "output_type": "execute_result"
    }
   ],
   "source": [
    "df_raw = pd.read_csv('data/interim/job_offers_au_2023-10-11.csv',\n",
    "    sep=';',\n",
    "    encoding='UTF-8'\n",
    ")\n",
    "df_raw.head()"
   ]
  },
  {
   "cell_type": "code",
   "execution_count": 4,
   "id": "04e17e01-7f17-41eb-81f3-ee0f64528f8c",
   "metadata": {},
   "outputs": [
    {
     "data": {
      "text/html": [
       "<div>\n",
       "<style scoped>\n",
       "    .dataframe tbody tr th:only-of-type {\n",
       "        vertical-align: middle;\n",
       "    }\n",
       "\n",
       "    .dataframe tbody tr th {\n",
       "        vertical-align: top;\n",
       "    }\n",
       "\n",
       "    .dataframe thead th {\n",
       "        text-align: right;\n",
       "    }\n",
       "</style>\n",
       "<table border=\"1\" class=\"dataframe\">\n",
       "  <thead>\n",
       "    <tr style=\"text-align: right;\">\n",
       "      <th></th>\n",
       "      <th>name</th>\n",
       "      <th>company</th>\n",
       "      <th>technology</th>\n",
       "      <th>job</th>\n",
       "      <th>location</th>\n",
       "      <th>salary_low</th>\n",
       "      <th>salary_high</th>\n",
       "      <th>salary_currency</th>\n",
       "    </tr>\n",
       "  </thead>\n",
       "  <tbody>\n",
       "    <tr>\n",
       "      <th>0</th>\n",
       "      <td>data analyst</td>\n",
       "      <td>DENTONS BUSINESS SERVICES EMEA</td>\n",
       "      <td>NaN</td>\n",
       "      <td>data analyst</td>\n",
       "      <td>Zdalnie</td>\n",
       "      <td>12300</td>\n",
       "      <td>18400</td>\n",
       "      <td>PLN</td>\n",
       "    </tr>\n",
       "  </tbody>\n",
       "</table>\n",
       "</div>"
      ],
      "text/plain": [
       "           name                         company  technology           job  \\\n",
       "0  data analyst  DENTONS BUSINESS SERVICES EMEA         NaN  data analyst   \n",
       "\n",
       "  location  salary_low  salary_high salary_currency  \n",
       "0  Zdalnie       12300        18400             PLN  "
      ]
     },
     "execution_count": 4,
     "metadata": {},
     "output_type": "execute_result"
    }
   ],
   "source": [
    "df = df_raw.copy()\n",
    "\n",
    "df['name'] = df['name'].str.lower()\n",
    "df.rename(columns={'salary.low':'salary_low', 'salary.high' : 'salary_high', 'salary.currency' : 'salary_currency'}, inplace = True)\n",
    "df.head(1)"
   ]
  },
  {
   "cell_type": "code",
   "execution_count": 5,
   "id": "01a48095-01be-4421-aeb2-1f7de5c3bfeb",
   "metadata": {},
   "outputs": [],
   "source": [
    "df['salary_avg'] = (df['salary_low']+df['salary_high'])/2"
   ]
  },
  {
   "cell_type": "code",
   "execution_count": 6,
   "id": "197d2ccf-6828-41cb-bd7d-e4a9e859ad47",
   "metadata": {},
   "outputs": [
    {
     "data": {
      "text/plain": [
       "array(['Zdalnie', 'Warszawa', 'Budapest', 'Prague', 'Krakow', 'Katowice',\n",
       "       'Kraków', 'Poznań', 'Wrocław', 'Warsaw', 'Trójmiasto'],\n",
       "      dtype=object)"
      ]
     },
     "execution_count": 6,
     "metadata": {},
     "output_type": "execute_result"
    }
   ],
   "source": [
    "df['location'].unique()"
   ]
  },
  {
   "cell_type": "code",
   "execution_count": 8,
   "id": "6facb717-7797-40d2-8367-598891fd0243",
   "metadata": {},
   "outputs": [],
   "source": [
    "df.loc[df['location'].isin(['Warszawa', 'Warsaw']), 'location'] = 'Warszawa'\n",
    "df.loc[df['location'].isin(['Kraków', 'Krakow']), 'location'] = 'Kraków'"
   ]
  },
  {
   "cell_type": "code",
   "execution_count": 10,
   "id": "f0b86962-591f-4fc9-96a9-c760c197b255",
   "metadata": {},
   "outputs": [],
   "source": [
    "df['is_senior'] = 0\n",
    "df.loc[df['name'].apply(lambda x: True if re.match('(?i)(senior)', x) else False), \n",
    "'is_senior'] = 1"
   ]
  },
  {
   "cell_type": "code",
   "execution_count": 11,
   "id": "f8c6b5f6-ef50-414c-b44e-36c93f7bddde",
   "metadata": {},
   "outputs": [],
   "source": [
    "df = df.loc[df['salary_currency'] == 'PLN']"
   ]
  },
  {
   "cell_type": "code",
   "execution_count": 12,
   "id": "f36a5f14-31de-4cb5-a8e0-dbc62a938057",
   "metadata": {},
   "outputs": [],
   "source": [
    "df.to_csv('data/processed/job_offers.csv',\n",
    "    sep=';',\n",
    "    encoding='UTF-8',\n",
    "    index=False)"
   ]
  },
  {
   "cell_type": "markdown",
   "id": "c23e74a7-c9e5-453f-b45d-a16a1ced90c1",
   "metadata": {},
   "source": [
    "**Data Analysis**"
   ]
  },
  {
   "cell_type": "code",
   "execution_count": 14,
   "id": "4295afe5-7fad-4c0d-af8d-f3ca300c957e",
   "metadata": {},
   "outputs": [
    {
     "data": {
      "text/html": [
       "<div>\n",
       "<style scoped>\n",
       "    .dataframe tbody tr th:only-of-type {\n",
       "        vertical-align: middle;\n",
       "    }\n",
       "\n",
       "    .dataframe tbody tr th {\n",
       "        vertical-align: top;\n",
       "    }\n",
       "\n",
       "    .dataframe thead th {\n",
       "        text-align: right;\n",
       "    }\n",
       "</style>\n",
       "<table border=\"1\" class=\"dataframe\">\n",
       "  <thead>\n",
       "    <tr style=\"text-align: right;\">\n",
       "      <th></th>\n",
       "      <th>name</th>\n",
       "      <th>company</th>\n",
       "      <th>technology</th>\n",
       "      <th>job</th>\n",
       "      <th>location</th>\n",
       "      <th>salary_low</th>\n",
       "      <th>salary_high</th>\n",
       "      <th>salary_currency</th>\n",
       "      <th>salary_avg</th>\n",
       "      <th>is_senior</th>\n",
       "    </tr>\n",
       "  </thead>\n",
       "  <tbody>\n",
       "    <tr>\n",
       "      <th>0</th>\n",
       "      <td>data analyst</td>\n",
       "      <td>DENTONS BUSINESS SERVICES EMEA</td>\n",
       "      <td>NaN</td>\n",
       "      <td>data analyst</td>\n",
       "      <td>Zdalnie</td>\n",
       "      <td>12300</td>\n",
       "      <td>18400</td>\n",
       "      <td>PLN</td>\n",
       "      <td>15350.0</td>\n",
       "      <td>0</td>\n",
       "    </tr>\n",
       "    <tr>\n",
       "      <th>1</th>\n",
       "      <td>senior business analyst / data operating model</td>\n",
       "      <td>Diverse CG</td>\n",
       "      <td>NaN</td>\n",
       "      <td>data analyst</td>\n",
       "      <td>Warszawa</td>\n",
       "      <td>21000</td>\n",
       "      <td>24360</td>\n",
       "      <td>PLN</td>\n",
       "      <td>22680.0</td>\n",
       "      <td>1</td>\n",
       "    </tr>\n",
       "    <tr>\n",
       "      <th>2</th>\n",
       "      <td>marketing data senior analyst/marketing automa...</td>\n",
       "      <td>AI REV</td>\n",
       "      <td>NaN</td>\n",
       "      <td>data analyst</td>\n",
       "      <td>Zdalnie</td>\n",
       "      <td>22680</td>\n",
       "      <td>31584</td>\n",
       "      <td>PLN</td>\n",
       "      <td>27132.0</td>\n",
       "      <td>0</td>\n",
       "    </tr>\n",
       "    <tr>\n",
       "      <th>3</th>\n",
       "      <td>remote data analyst/data engineering team lead</td>\n",
       "      <td>DataFeedWatch by Cart</td>\n",
       "      <td>NaN</td>\n",
       "      <td>data analyst</td>\n",
       "      <td>Zdalnie</td>\n",
       "      <td>17000</td>\n",
       "      <td>23000</td>\n",
       "      <td>PLN</td>\n",
       "      <td>20000.0</td>\n",
       "      <td>0</td>\n",
       "    </tr>\n",
       "    <tr>\n",
       "      <th>4</th>\n",
       "      <td>marketing data analyst</td>\n",
       "      <td>Murka Games Limited</td>\n",
       "      <td>NaN</td>\n",
       "      <td>data analyst</td>\n",
       "      <td>Zdalnie</td>\n",
       "      <td>10647</td>\n",
       "      <td>14906</td>\n",
       "      <td>PLN</td>\n",
       "      <td>12776.5</td>\n",
       "      <td>0</td>\n",
       "    </tr>\n",
       "  </tbody>\n",
       "</table>\n",
       "</div>"
      ],
      "text/plain": [
       "                                                name  \\\n",
       "0                                       data analyst   \n",
       "1     senior business analyst / data operating model   \n",
       "2  marketing data senior analyst/marketing automa...   \n",
       "3     remote data analyst/data engineering team lead   \n",
       "4                             marketing data analyst   \n",
       "\n",
       "                          company  technology           job  location  \\\n",
       "0  DENTONS BUSINESS SERVICES EMEA         NaN  data analyst   Zdalnie   \n",
       "1                      Diverse CG         NaN  data analyst  Warszawa   \n",
       "2                          AI REV         NaN  data analyst   Zdalnie   \n",
       "3           DataFeedWatch by Cart         NaN  data analyst   Zdalnie   \n",
       "4             Murka Games Limited         NaN  data analyst   Zdalnie   \n",
       "\n",
       "   salary_low  salary_high salary_currency  salary_avg  is_senior  \n",
       "0       12300        18400             PLN     15350.0          0  \n",
       "1       21000        24360             PLN     22680.0          1  \n",
       "2       22680        31584             PLN     27132.0          0  \n",
       "3       17000        23000             PLN     20000.0          0  \n",
       "4       10647        14906             PLN     12776.5          0  "
      ]
     },
     "execution_count": 14,
     "metadata": {},
     "output_type": "execute_result"
    }
   ],
   "source": [
    "df = pd.read_csv(\n",
    "    'data/processed/job_offers.csv',\n",
    "    sep=';',\n",
    "    encoding='UTF-8')\n",
    "df.head()"
   ]
  },
  {
   "cell_type": "code",
   "execution_count": 15,
   "id": "4f9e6cb1-4163-45ad-b70b-0a3eb19ab03f",
   "metadata": {},
   "outputs": [
    {
     "name": "stdout",
     "output_type": "stream",
     "text": [
      "job\n",
      "data analyst      23\n",
      "data engineer     83\n",
      "data scientist    19\n",
      "dtype: int64\n"
     ]
    },
    {
     "data": {
      "text/plain": [
       "<Axes: xlabel='job'>"
      ]
     },
     "execution_count": 15,
     "metadata": {},
     "output_type": "execute_result"
    },
    {
     "data": {
      "image/png": "[encoded data removed]",
      "text/plain": [
       "<Figure size 640x480 with 1 Axes>"
      ]
     },
     "metadata": {},
     "output_type": "display_data"
    }
   ],
   "source": [
    "job_offers = df.groupby(by=['job']).size()\n",
    "\n",
    "print(job_offers)\n",
    "job_offers.plot.bar()"
   ]
  },
  {
   "cell_type": "code",
   "execution_count": 18,
   "id": "b663db1b-2164-430e-82bb-ca314e0b3e34",
   "metadata": {},
   "outputs": [
    {
     "data": {
      "text/plain": [
       "<Axes: xlabel='location,job'>"
      ]
     },
     "execution_count": 18,
     "metadata": {},
     "output_type": "execute_result"
    },
    {
     "data": {
      "image/png": "[encoded data removed]",
      "text/plain": [
       "<Figure size 640x480 with 1 Axes>"
      ]
     },
     "metadata": {},
     "output_type": "display_data"
    }
   ],
   "source": [
    "offers_by_city = df.groupby(by = ['location', 'job']).size()\n",
    "offers_by_city\n",
    "\n",
    "offers_by_city.sort_values().plot.bar()"
   ]
  },
  {
   "cell_type": "code",
   "execution_count": 19,
   "id": "506e24ce-1d95-4b53-815c-bf41f788e142",
   "metadata": {},
   "outputs": [
    {
     "name": "stdout",
     "output_type": "stream",
     "text": [
      "                  salary_avg  count\n",
      "job                                \n",
      "data analyst    17099.869565     23\n",
      "data scientist  21960.921053     19\n",
      "data engineer   24011.734940     83\n"
     ]
    },
    {
     "data": {
      "text/plain": [
       "array([[<Axes: title={'center': 'salary_avg'}, xlabel='job'>,\n",
       "        <Axes: title={'center': 'count'}, xlabel='job'>]], dtype=object)"
      ]
     },
     "execution_count": 19,
     "metadata": {},
     "output_type": "execute_result"
    },
    {
     "data": {
      "image/png": "[encoded data removed]",
      "text/plain": [
       "<Figure size 640x480 with 2 Axes>"
      ]
     },
     "metadata": {},
     "output_type": "display_data"
    }
   ],
   "source": [
    "offer_salary = df.groupby(by=['job']).agg({'salary_avg': 'mean', 'name': 'count'})\n",
    "offer_salary.sort_values(by=['salary_avg'], inplace=True)\n",
    "offer_salary.rename(columns={'name':'count'}, inplace=True)\n",
    "\n",
    "print(offer_salary)\n",
    "offer_salary.plot(subplots=True, layout=(1, 2), kind='bar')"
   ]
  },
  {
   "cell_type": "code",
   "execution_count": 22,
   "id": "4997ad39-6bd0-420f-a4ef-4d38ae090396",
   "metadata": {},
   "outputs": [
    {
     "data": {
      "text/html": [
       "<div>\n",
       "<style scoped>\n",
       "    .dataframe tbody tr th:only-of-type {\n",
       "        vertical-align: middle;\n",
       "    }\n",
       "\n",
       "    .dataframe tbody tr th {\n",
       "        vertical-align: top;\n",
       "    }\n",
       "\n",
       "    .dataframe thead th {\n",
       "        text-align: right;\n",
       "    }\n",
       "</style>\n",
       "<table border=\"1\" class=\"dataframe\">\n",
       "  <thead>\n",
       "    <tr style=\"text-align: right;\">\n",
       "      <th></th>\n",
       "      <th>salary_avg</th>\n",
       "      <th>count</th>\n",
       "    </tr>\n",
       "    <tr>\n",
       "      <th>location</th>\n",
       "      <th></th>\n",
       "      <th></th>\n",
       "    </tr>\n",
       "  </thead>\n",
       "  <tbody>\n",
       "    <tr>\n",
       "      <th>Budapest</th>\n",
       "      <td>14995.416667</td>\n",
       "      <td>6</td>\n",
       "    </tr>\n",
       "    <tr>\n",
       "      <th>Katowice</th>\n",
       "      <td>16113.333333</td>\n",
       "      <td>3</td>\n",
       "    </tr>\n",
       "    <tr>\n",
       "      <th>Prague</th>\n",
       "      <td>17480.000000</td>\n",
       "      <td>4</td>\n",
       "    </tr>\n",
       "    <tr>\n",
       "      <th>Trójmiasto</th>\n",
       "      <td>18060.000000</td>\n",
       "      <td>1</td>\n",
       "    </tr>\n",
       "    <tr>\n",
       "      <th>Poznań</th>\n",
       "      <td>21690.000000</td>\n",
       "      <td>2</td>\n",
       "    </tr>\n",
       "    <tr>\n",
       "      <th>Zdalnie</th>\n",
       "      <td>22637.541667</td>\n",
       "      <td>72</td>\n",
       "    </tr>\n",
       "    <tr>\n",
       "      <th>Warszawa</th>\n",
       "      <td>23318.181818</td>\n",
       "      <td>22</td>\n",
       "    </tr>\n",
       "    <tr>\n",
       "      <th>Wrocław</th>\n",
       "      <td>23787.500000</td>\n",
       "      <td>4</td>\n",
       "    </tr>\n",
       "    <tr>\n",
       "      <th>Kraków</th>\n",
       "      <td>26891.181818</td>\n",
       "      <td>11</td>\n",
       "    </tr>\n",
       "  </tbody>\n",
       "</table>\n",
       "</div>"
      ],
      "text/plain": [
       "              salary_avg  count\n",
       "location                       \n",
       "Budapest    14995.416667      6\n",
       "Katowice    16113.333333      3\n",
       "Prague      17480.000000      4\n",
       "Trójmiasto  18060.000000      1\n",
       "Poznań      21690.000000      2\n",
       "Zdalnie     22637.541667     72\n",
       "Warszawa    23318.181818     22\n",
       "Wrocław     23787.500000      4\n",
       "Kraków      26891.181818     11"
      ]
     },
     "execution_count": 22,
     "metadata": {},
     "output_type": "execute_result"
    }
   ],
   "source": [
    "offer_salary_by_city = df.groupby(by=['location']).agg({'salary_avg': 'mean', 'name': 'count'})\n",
    "offer_salary_by_city.sort_values(by=['salary_avg'], inplace=True)\n",
    "offer_salary_by_city.rename(columns={'name':'count'}, inplace=True)\n",
    "\n",
    "offer_salary_by_city"
   ]
  },
  {
   "cell_type": "code",
   "execution_count": 24,
   "id": "a27cddc2-6c40-4710-920f-283005b77441",
   "metadata": {},
   "outputs": [
    {
     "data": {
      "text/plain": [
       "<Axes: xlabel='location'>"
      ]
     },
     "execution_count": 24,
     "metadata": {},
     "output_type": "execute_result"
    },
    {
     "data": {
      "image/png": "[encoded data removed]",
      "text/plain": [
       "<Figure size 640x480 with 1 Axes>"
      ]
     },
     "metadata": {},
     "output_type": "display_data"
    }
   ],
   "source": [
    "df.pivot_table(index='location', columns='job', values='salary_avg').plot(kind='bar')"
   ]
  },
  {
   "cell_type": "code",
   "execution_count": 25,
   "id": "1fcb0a7b-c29e-4ba4-b9ff-9538bc244c6b",
   "metadata": {},
   "outputs": [
    {
     "data": {
      "text/html": [
       "<div>\n",
       "<style scoped>\n",
       "    .dataframe tbody tr th:only-of-type {\n",
       "        vertical-align: middle;\n",
       "    }\n",
       "\n",
       "    .dataframe tbody tr th {\n",
       "        vertical-align: top;\n",
       "    }\n",
       "\n",
       "    .dataframe thead th {\n",
       "        text-align: right;\n",
       "    }\n",
       "</style>\n",
       "<table border=\"1\" class=\"dataframe\">\n",
       "  <thead>\n",
       "    <tr style=\"text-align: right;\">\n",
       "      <th></th>\n",
       "      <th></th>\n",
       "      <th>salary_avg</th>\n",
       "      <th>name</th>\n",
       "    </tr>\n",
       "    <tr>\n",
       "      <th>job</th>\n",
       "      <th>is_senior</th>\n",
       "      <th></th>\n",
       "      <th></th>\n",
       "    </tr>\n",
       "  </thead>\n",
       "  <tbody>\n",
       "    <tr>\n",
       "      <th rowspan=\"2\" valign=\"top\">data analyst</th>\n",
       "      <th>0</th>\n",
       "      <td>15599.941176</td>\n",
       "      <td>17</td>\n",
       "    </tr>\n",
       "    <tr>\n",
       "      <th>1</th>\n",
       "      <td>21349.666667</td>\n",
       "      <td>6</td>\n",
       "    </tr>\n",
       "    <tr>\n",
       "      <th rowspan=\"2\" valign=\"top\">data engineer</th>\n",
       "      <th>0</th>\n",
       "      <td>23047.822581</td>\n",
       "      <td>62</td>\n",
       "    </tr>\n",
       "    <tr>\n",
       "      <th>1</th>\n",
       "      <td>26857.571429</td>\n",
       "      <td>21</td>\n",
       "    </tr>\n",
       "    <tr>\n",
       "      <th rowspan=\"2\" valign=\"top\">data scientist</th>\n",
       "      <th>0</th>\n",
       "      <td>19415.000000</td>\n",
       "      <td>8</td>\n",
       "    </tr>\n",
       "    <tr>\n",
       "      <th>1</th>\n",
       "      <td>23812.500000</td>\n",
       "      <td>11</td>\n",
       "    </tr>\n",
       "  </tbody>\n",
       "</table>\n",
       "</div>"
      ],
      "text/plain": [
       "                            salary_avg  name\n",
       "job            is_senior                    \n",
       "data analyst   0          15599.941176    17\n",
       "               1          21349.666667     6\n",
       "data engineer  0          23047.822581    62\n",
       "               1          26857.571429    21\n",
       "data scientist 0          19415.000000     8\n",
       "               1          23812.500000    11"
      ]
     },
     "execution_count": 25,
     "metadata": {},
     "output_type": "execute_result"
    }
   ],
   "source": [
    "salary_by_senior = df.groupby(by=['job', 'is_senior']).agg({'salary_avg': 'mean', 'name': 'count'})\n",
    "salary_by_senior"
   ]
  }
 ],
 "metadata": {
  "kernelspec": {
   "display_name": "Python 3 (ipykernel)",
   "language": "python",
   "name": "python3"
  },
  "language_info": {
   "codemirror_mode": {
    "name": "ipython",
    "version": 3
   },
   "file_extension": ".py",
   "mimetype": "text/x-python",
   "name": "python",
   "nbconvert_exporter": "python",
   "pygments_lexer": "ipython3",
   "version": "3.10.9"
  }
 },
 "nbformat": 4,
 "nbformat_minor": 5
}
